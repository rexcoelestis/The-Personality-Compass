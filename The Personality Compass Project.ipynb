{
 "cells": [
  {
   "cell_type": "markdown",
   "id": "7a857f75",
   "metadata": {},
   "source": [
    "# The Personality Compass Project"
   ]
  },
  {
   "cell_type": "code",
   "execution_count": null,
   "id": "3247d642",
   "metadata": {},
   "outputs": [],
   "source": [
    "import questions from questions.py\n",
    "\n",
    "i = 0\n",
    "\n",
    "while i < 60:\n",
    "    "
   ]
  }
 ],
 "metadata": {
  "kernelspec": {
   "display_name": "Python 3",
   "language": "python",
   "name": "python3"
  },
  "language_info": {
   "codemirror_mode": {
    "name": "ipython",
    "version": 3
   },
   "file_extension": ".py",
   "mimetype": "text/x-python",
   "name": "python",
   "nbconvert_exporter": "python",
   "pygments_lexer": "ipython3",
   "version": "3.8.8"
  }
 },
 "nbformat": 4,
 "nbformat_minor": 5
}
