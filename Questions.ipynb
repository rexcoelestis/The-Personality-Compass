{
 "cells": [
  {
   "cell_type": "markdown",
   "id": "00b92cb2",
   "metadata": {},
   "source": [
    "# Question Set for The Personality Compass"
   ]
  },
  {
   "cell_type": "code",
   "execution_count": 1,
   "id": "ded7efdc",
   "metadata": {},
   "outputs": [],
   "source": [
    "questions = [\n",
    "    \"Which word describes you more often than the other? \\n (a) Confident \\n (b) Helpful \\n\\n\",\n",
    "    \"Which word describes you more often than the other? \\n (a) Self-reliant \\n (b) Understanding \\n\\n\",\n",
    "    \"Which word describes you more often than the other? \\n (a) Fast-paced \\n (b) Easy-going \\n\\n\",\n",
    "    \"Which word describes you more often than the other? \\n (a) Independent \\n (b) Team Player \\n\\n\",\n",
    "    \"Which word describes you more often than the other? \\n (a) Decisive \\n (b) Diplomatic \\n\\n\",\n",
    "    \"Which word describes you more often than the other? \\n (a) Assertive \\n (b) Non-confrontational \\n\\n\",\n",
    "    \"Which word describes you more often than the other? \\n (a) Competitive \\n (b) Cooperative \\n\\n\",\n",
    "    \"Which word describes you more often than the other? \\n (a) Strong-willed \\n (b) Tolerant \\n\\n\",\n",
    "    \"Which word describes you more often than the other? \\n (a) Leader \\n (b) Loyal \\n\\n\",\n",
    "    \"Which word describes you more often than the other? \\n (a) Goal-centered \\n (b) People-centered \\n\\n\",\n",
    "    \"Which word describes you more often than the other? \\n (a) Initiator \\n (b) Listener \\n\\n\",\n",
    "    \"Which word describes you more often than the other? \\n (a) Determined \\n (b) Unselfish \\n\\n\",\n",
    "    \"Which word describes you more often than the other? \\n (a) Straightforward \\n (b) Patient \\n\\n\",\n",
    "    \"Which word describes you more often than the other? \\n (a) Results-focused \\n (b) Relationship-focused \\n\\n\",\n",
    "    \"Which word describes you more often than the other? \\n (a) Hardworking \\n (b) Friendly \\n\\n\",\n",
    "    \"Which word describes you more often than the other? \\n (a) In-charge \\n (b) Generous \\n\\n\",\n",
    "    \"Which word describes you more often than the other? \\n (a) Task-oriented \\n (b) Peace-oriented \\n\\n\",\n",
    "    \"Which word describes you more often than the other? \\n (a) Authoritative \\n (b) Considerate \\n\\n\",\n",
    "    \"Which word describes you more often than the other? \\n (a) Bold \\n (b) Supportive \\n\\n\",\n",
    "    \"Which word describes you more often than the other? \\n (a) Productive \\n (b) Faithful \\n\\n\",\n",
    "    \"Which word describes you more often than the other? \\n (a) Self-starter \\n (b) Volunteer \\n\\n\",\n",
    "    \"Which word describes you more often than the other? \\n (a) Autocratic \\n (b) Accommodating \\n\\n\",\n",
    "    \"Which word describes you more often than the other? \\n (a) Directive \\n (b) Sociable \\n\\n\",\n",
    "    \"Which word describes you more often than the other? \\n (a) Opinionated \\n (b) Sensitive \\n\\n\",\n",
    "    \"Which word describes you more often than the other? \\n (a) Challenger \\n (b) Mediator \\n\\n\",\n",
    "    \"Which word describes you more often than the other? \\n (a) Doer \\n (b) Communicator \\n\\n\",\n",
    "    \"Which word describes you more often than the other? \\n (a) Deadline-driven \\n (b) Values-driven \\n\\n\",\n",
    "    \"Which word describes you more often than the other? \\n (a) Tough \\n (b) Appreciative \\n\\n\",\n",
    "    \"Which word describes you more often than the other? \\n (a) Driver \\n (b) Pleaser \\n\\n\",\n",
    "    \"Which word describes you more often than the other? \\n (a) Achiever \\n (b) Caregiver \\n\\n\",\n",
    "    \"Which word describes you more often than the other? \\n (c) Organized \\n (d) Creative \\n\\n\",\n",
    "    \"Which word describes you more often than the other? \\n (c) Structured \\n (d) Flexible \\n\\n\",\n",
    "    \"Which word describes you more often than the other? \\n (c) Quality-centered \\n (d) Idea-centered \\n\\n\",\n",
    "    \"Which word describes you more often than the other? \\n (c) Cultured \\n (d) Enthusiastic \\n\\n\",\n",
    "    \"Which word describes you more often than the other? \\n (c) Logical \\n (d) Visionary \\n\\n\",\n",
    "    \"Which word describes you more often than the other? \\n (c) Reserved \\n (d) Innovative \\n\\n\",\n",
    "    \"Which word describes you more often than the other? \\n (c) Planner \\n (d) Spontaneous \\n\\n\",\n",
    "    \"Which word describes you more often than the other? \\n (c) Focused \\n (d) Resourceful \\n\\n\",\n",
    "    \"Which word describes you more often than the other? \\n (c) Perfectionist \\n (d) Free-spirited \\n\\n\",\n",
    "    \"Which word describes you more often than the other? \\n (c) Traditional \\n (d) Risk-taker \\n\\n\",\n",
    "    \"Which word describes you more often than the other? \\n (c) Factual \\n (d) Fun-loving \\n\\n\",\n",
    "    \"Which word describes you more often than the other? \\n (c) Analytical \\n (d) Cheerful \\n\\n\",\n",
    "    \"Which word describes you more often than the other? \\n (c) Consistent \\n (d) Versatile \\n\\n\",\n",
    "    \"Which word describes you more often than the other? \\n (c) Serious \\n (d) Humorous \\n\\n\",\n",
    "    \"Which word describes you more often than the other? \\n (c) Efficient \\n (d) Dreamer \\n\\n\",\n",
    "    \"Which word describes you more often than the other? \\n (c) Punctual \\n (d) Daring \\n\\n\",\n",
    "    \"Which word describes you more often than the other? \\n (c) Reliable \\n (d) Delegator \\n\\n\",\n",
    "    \"Which word describes you more often than the other? \\n (c) Industrious \\n (d) Improvising \\n\\n\",\n",
    "    \"Which word describes you more often than the other? \\n (c) Persistent \\n (d) Imaginative \\n\\n\",\n",
    "    \"Which word describes you more often than the other? \\n (c) Cautious \\n (d) Open-minded \\n\\n\",\n",
    "    \"Which word describes you more often than the other? \\n (c) Finisher \\n (d) Motivator \\n\\n\",\n",
    "    \"Which word describes you more often than the other? \\n (c) Rule-follower \\n (d) Option-provider \\n\\n\",\n",
    "    \"Which word describes you more often than the other? \\n (c) Systematic \\n (d) Carefree \\n\\n\",\n",
    "    \"Which word describes you more often than the other? \\n (c) Precise \\n (d) Inventive \\n\\n\",\n",
    "    \"Which word describes you more often than the other? \\n (c) Standard-setter \\n (d) Coordinator \\n\\n\",\n",
    "    \"Which word describes you more often than the other? \\n (c) Persuasive \\n (d) Adventurous \\n\\n\",\n",
    "    \"Which word describes you more often than the other? \\n (c) Protocol-focused \\n (d) Methods-focused \\n\\n\",\n",
    "    \"Which word describes you more often than the other? \\n (c) Accurate \\n (d) Adaptable \\n\\n\",\n",
    "    \"Which word describes you more often than the other? \\n (c) Double-checker \\n (d) Wheeler-dealer \\n\\n\",\n",
    "    \"Which word describes you more often than the other? \\n (c) Record-keeper \\n (d) Trend-setter \\n\\n\"   \n",
    "]"
   ]
  }
 ],
 "metadata": {
  "kernelspec": {
   "display_name": "Python 3",
   "language": "python",
   "name": "python3"
  },
  "language_info": {
   "codemirror_mode": {
    "name": "ipython",
    "version": 3
   },
   "file_extension": ".py",
   "mimetype": "text/x-python",
   "name": "python",
   "nbconvert_exporter": "python",
   "pygments_lexer": "ipython3",
   "version": "3.8.8"
  }
 },
 "nbformat": 4,
 "nbformat_minor": 5
}
